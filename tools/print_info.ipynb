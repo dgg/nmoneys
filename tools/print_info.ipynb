{
 "cells": [
  {
   "cell_type": "code",
   "execution_count": 10,
   "metadata": {
    "dotnet_interactive": {
     "language": "csharp"
    },
    "polyglot_notebook": {
     "kernelName": "csharp"
    },
    "vscode": {
     "languageId": "polyglot-notebook"
    }
   },
   "outputs": [
    {
     "data": {
      "text/html": [
       "<details open=\"open\" class=\"dni-treeview\"><summary><span class=\"dni-code-hint\"><code>DK</code></span></summary><div><table><thead><tr></tr></thead><tbody><tr><td>Name</td><td><div class=\"dni-plaintext\"><pre>DK</pre></div></td></tr><tr><td>EnglishName</td><td><div class=\"dni-plaintext\"><pre>Denmark</pre></div></td></tr><tr><td>DisplayName</td><td><div class=\"dni-plaintext\"><pre>Danmark</pre></div></td></tr><tr><td>NativeName</td><td><div class=\"dni-plaintext\"><pre>Danmark</pre></div></td></tr><tr><td>TwoLetterISORegionName</td><td><div class=\"dni-plaintext\"><pre>DK</pre></div></td></tr><tr><td>ThreeLetterISORegionName</td><td><div class=\"dni-plaintext\"><pre>DNK</pre></div></td></tr><tr><td>ThreeLetterWindowsRegionName</td><td><div class=\"dni-plaintext\"><pre>DNK</pre></div></td></tr><tr><td>IsMetric</td><td><div class=\"dni-plaintext\"><pre>True</pre></div></td></tr><tr><td>GeoId</td><td><div class=\"dni-plaintext\"><pre>61</pre></div></td></tr><tr><td>CurrencyEnglishName</td><td><div class=\"dni-plaintext\"><pre>Danish Krone</pre></div></td></tr><tr><td>CurrencyNativeName</td><td><div class=\"dni-plaintext\"><pre>dansk krone</pre></div></td></tr><tr><td>CurrencySymbol</td><td><div class=\"dni-plaintext\"><pre>kr.</pre></div></td></tr><tr><td>ISOCurrencySymbol</td><td><div class=\"dni-plaintext\"><pre>DKK</pre></div></td></tr></tbody></table></div></details><style>\r\n",
       ".dni-code-hint {\r\n",
       "    font-style: italic;\r\n",
       "    overflow: hidden;\r\n",
       "    white-space: nowrap;\r\n",
       "}\r\n",
       ".dni-treeview {\r\n",
       "    white-space: nowrap;\r\n",
       "}\r\n",
       ".dni-treeview td {\r\n",
       "    vertical-align: top;\r\n",
       "    text-align: start;\r\n",
       "}\r\n",
       "details.dni-treeview {\r\n",
       "    padding-left: 1em;\r\n",
       "}\r\n",
       "table td {\r\n",
       "    text-align: start;\r\n",
       "}\r\n",
       "table tr { \r\n",
       "    vertical-align: top; \r\n",
       "    margin: 0em 0px;\r\n",
       "}\r\n",
       "table tr td pre \r\n",
       "{ \r\n",
       "    vertical-align: top !important; \r\n",
       "    margin: 0em 0px !important;\r\n",
       "} \r\n",
       "table th {\r\n",
       "    text-align: start;\r\n",
       "}\r\n",
       "</style>"
      ]
     },
     "metadata": {},
     "output_type": "display_data"
    }
   ],
   "source": [
    "using System.Globalization;\n",
    "\n",
    "string culture = \"da-DK\";\n",
    "CultureInfo ci = CultureInfo.GetCultureInfo(culture);\n",
    "NumberFormatInfo nf = ci.NumberFormat;\n",
    "RegionInfo ri = new RegionInfo(ci.LCID);\n",
    "\n",
    "ri"
   ]
  },
  {
   "cell_type": "code",
   "execution_count": 11,
   "metadata": {
    "dotnet_interactive": {
     "language": "csharp"
    },
    "polyglot_notebook": {
     "kernelName": "csharp"
    },
    "vscode": {
     "languageId": "polyglot-notebook"
    }
   },
   "outputs": [
    {
     "data": {
      "text/html": [
       "<table><thead><tr><th><i>key</i></th><th><i>type</i></th><th>value</th></tr></thead><tbody><tr><td><div class=\"dni-plaintext\"><pre>CurrencyEnglishName</pre></div></td><td><span><a href=\"https://docs.microsoft.com/dotnet/api/system.string?view=net-7.0\">System.String</a></span></td><td><div class=\"dni-plaintext\"><pre>Danish Krone</pre></div></td></tr><tr><td><div class=\"dni-plaintext\"><pre>CurrencyNativeName</pre></div></td><td><span><a href=\"https://docs.microsoft.com/dotnet/api/system.string?view=net-7.0\">System.String</a></span></td><td><div class=\"dni-plaintext\"><pre>dansk krone</pre></div></td></tr><tr><td><div class=\"dni-plaintext\"><pre>CurrencySymbol</pre></div></td><td><span><a href=\"https://docs.microsoft.com/dotnet/api/system.string?view=net-7.0\">System.String</a></span></td><td><div class=\"dni-plaintext\"><pre>kr.</pre></div></td></tr><tr><td><div class=\"dni-plaintext\"><pre>CurrencyDecimalDigits</pre></div></td><td><span><a href=\"https://docs.microsoft.com/dotnet/api/system.int32?view=net-7.0\">System.Int32</a></span></td><td><div class=\"dni-plaintext\"><pre>2</pre></div></td></tr><tr><td><div class=\"dni-plaintext\"><pre>CurrencyDecimalSeparator</pre></div></td><td><span><a href=\"https://docs.microsoft.com/dotnet/api/system.string?view=net-7.0\">System.String</a></span></td><td><div class=\"dni-plaintext\"><pre>,</pre></div></td></tr><tr><td><div class=\"dni-plaintext\"><pre>CurrencyGroupSeparator</pre></div></td><td><span><a href=\"https://docs.microsoft.com/dotnet/api/system.string?view=net-7.0\">System.String</a></span></td><td><div class=\"dni-plaintext\"><pre>.</pre></div></td></tr><tr><td><div class=\"dni-plaintext\"><pre>CurrencyGroupSizes</pre></div></td><td><span><a href=\"https://docs.microsoft.com/dotnet/api/system.int32[]?view=net-7.0\">System.Int32[]</a></span></td><td><div class=\"dni-plaintext\"><pre>[ 3 ]</pre></div></td></tr><tr><td><div class=\"dni-plaintext\"><pre>CurrencyPositivePattern</pre></div></td><td><span><a href=\"https://docs.microsoft.com/dotnet/api/system.int32?view=net-7.0\">System.Int32</a></span></td><td><div class=\"dni-plaintext\"><pre>3</pre></div></td></tr><tr><td><div class=\"dni-plaintext\"><pre>CurrencyNegativePattern</pre></div></td><td><span><a href=\"https://docs.microsoft.com/dotnet/api/system.int32?view=net-7.0\">System.Int32</a></span></td><td><div class=\"dni-plaintext\"><pre>8</pre></div></td></tr></tbody></table><style>\r\n",
       ".dni-code-hint {\r\n",
       "    font-style: italic;\r\n",
       "    overflow: hidden;\r\n",
       "    white-space: nowrap;\r\n",
       "}\r\n",
       ".dni-treeview {\r\n",
       "    white-space: nowrap;\r\n",
       "}\r\n",
       ".dni-treeview td {\r\n",
       "    vertical-align: top;\r\n",
       "    text-align: start;\r\n",
       "}\r\n",
       "details.dni-treeview {\r\n",
       "    padding-left: 1em;\r\n",
       "}\r\n",
       "table td {\r\n",
       "    text-align: start;\r\n",
       "}\r\n",
       "table tr { \r\n",
       "    vertical-align: top; \r\n",
       "    margin: 0em 0px;\r\n",
       "}\r\n",
       "table tr td pre \r\n",
       "{ \r\n",
       "    vertical-align: top !important; \r\n",
       "    margin: 0em 0px !important;\r\n",
       "} \r\n",
       "table th {\r\n",
       "    text-align: start;\r\n",
       "}\r\n",
       "</style>"
      ]
     },
     "metadata": {},
     "output_type": "display_data"
    }
   ],
   "source": [
    "var info = new Dictionary<string, object>()\n",
    "{\n",
    "\t{\"CurrencyEnglishName\", ri.CurrencyEnglishName},\n",
    "\t{\"CurrencyNativeName\", ri.CurrencyNativeName},\n",
    "\t{\"CurrencySymbol\", nf.CurrencySymbol},\n",
    "\t{\"CurrencyDecimalDigits\", nf.CurrencyDecimalDigits},\n",
    "\t{\"CurrencyDecimalSeparator\", nf.CurrencyDecimalSeparator},\n",
    "\t{\"CurrencyGroupSeparator\", nf.CurrencyGroupSeparator},\n",
    "\t{\"CurrencyGroupSizes\", nf.CurrencyGroupSizes},\n",
    "\t{\"CurrencyPositivePattern\", nf.CurrencyPositivePattern},\n",
    "\t{\"CurrencyNegativePattern\", nf.CurrencyNegativePattern},\n",
    "};\n",
    "\n",
    "info"
   ]
  }
 ],
 "metadata": {
  "kernelspec": {
   "display_name": ".NET (C#)",
   "language": "C#",
   "name": ".net-csharp"
  },
  "language_info": {
   "name": "csharp"
  },
  "polyglot_notebook": {
   "kernelInfo": {
    "defaultKernelName": "csharp",
    "items": [
     {
      "aliases": [],
      "name": "csharp"
     }
    ]
   }
  }
 },
 "nbformat": 4,
 "nbformat_minor": 2
}
