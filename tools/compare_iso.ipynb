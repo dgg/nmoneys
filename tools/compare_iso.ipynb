{
 "cells": [
  {
   "cell_type": "markdown",
   "metadata": {},
   "source": [
    "# Compare ISO\n",
    "\n",
    "Compare currency information coming from ISO site with the implementation of the library.\n",
    "> Remember to compile the library before running the book\n"
   ]
  },
  {
   "cell_type": "code",
   "execution_count": 42,
   "metadata": {
    "dotnet_interactive": {
     "language": "csharp"
    },
    "polyglot_notebook": {
     "kernelName": "csharp"
    },
    "vscode": {
     "languageId": "polyglot-notebook"
    }
   },
   "outputs": [],
   "source": [
    "#r \"../src/NMoneys/bin/Debug/net6.0/NMoneys.dll\"\n",
    "\n",
    "using NMoneys;\n",
    "using NMoneys.Support;\n",
    "\n",
    "using System;\n",
    "using System.Globalization;\n",
    "using System.Net.Http;\n",
    "using System.Threading;\n",
    "using System.Xml.Linq;\n",
    "\n",
    "Microsoft.DotNet.Interactive.Formatting.Formatter.ListExpansionLimit= 200;\n",
    "\n",
    "string url = \"https://www.six-group.com/dam/download/financial-information/data-center/iso-currrency/lists/list-one.xml\";\n",
    "//string url = \"http://127.0.0.1:5500/tools/response.xml\";\n",
    "\n",
    "record IsoCurrency(string Name, string AlphabeticCode, short NumericCode, byte? MinorUnits, bool Obsolete = false)\n",
    "{\n",
    "\tpublic static IsoCurrency BuildFrom(Currency currency) =>\n",
    "\t\tnew IsoCurrency(currency.EnglishName, currency.AlphabeticCode, currency.NumericCode, currency.SignificantDecimalDigits, currency.IsObsolete);\n",
    "\n",
    "\tpublic static IsoCurrency BuildFrom(XElement country)\n",
    "\t{\n",
    "\t\tshort numericCode = short.Parse(country.Element(\"CcyNbr\").Value);\n",
    "\t\tbyte? minorUnits = byte.TryParse(country.Element(\"CcyMnrUnts\").Value, out byte minor) ? minor : null;\n",
    "\n",
    "\t\treturn new IsoCurrency(\n",
    "\t\t\tcountry.Element(\"CcyNm\").Value,\n",
    "\t\t\tcountry.Element(\"Ccy\").Value,\n",
    "\t\t\tnumericCode,\n",
    "\t\t\tminorUnits\n",
    "\t\t);\n",
    "\t}\n",
    "}\n",
    "\n",
    "Dictionary<string, IsoCurrency> scrapped = new (StringComparer.Ordinal);"
   ]
  },
  {
   "cell_type": "code",
   "execution_count": 43,
   "metadata": {
    "dotnet_interactive": {
     "language": "csharp"
    },
    "polyglot_notebook": {
     "kernelName": "csharp"
    },
    "vscode": {
     "languageId": "polyglot-notebook"
    }
   },
   "outputs": [],
   "source": [
    "using (HttpClient client = new HttpClient())\n",
    "{\n",
    "\tvar source = new CancellationTokenSource();\n",
    "\tvar stream = await client.GetStreamAsync(url, source.Token);\n",
    "\tXDocument doc = await XDocument.LoadAsync(stream, LoadOptions.None, source.Token);\n",
    "\t\n",
    "\tscrapped = doc.Root\n",
    "\t\t.Element(\"CcyTbl\")\n",
    "\t\t.Elements(\"CcyNtry\")\n",
    "\t\t.Where(e => e.Element(\"Ccy\") is not null)\n",
    "\t\t.Select(IsoCurrency.BuildFrom)\n",
    "\t\t.Aggregate(scrapped, (acc, c) =>\n",
    "\t\t{\n",
    "\t\t\tif (acc.TryGetValue(c.AlphabeticCode, out IsoCurrency existing))\n",
    "\t\t\t{\n",
    "\t\t\t\tif (!existing.Equals(c)) Console.WriteLine($\"In-file discrepancy: Existing {existing} | Incoming {c}\");\n",
    "\t\t\t}\n",
    "\t\t\telse\n",
    "\t\t\t{\n",
    "\t\t\t\tacc.Add(c.AlphabeticCode, c);\n",
    "\t\t\t}\n",
    "\t\t\treturn acc;\n",
    "\t\t});\n",
    "}"
   ]
  },
  {
   "cell_type": "code",
   "execution_count": 44,
   "metadata": {
    "dotnet_interactive": {
     "language": "csharp"
    },
    "polyglot_notebook": {
     "kernelName": "csharp"
    },
    "vscode": {
     "languageId": "polyglot-notebook"
    }
   },
   "outputs": [],
   "source": [
    "var implemented = Currency.FindAll()\n",
    "\t.Select(IsoCurrency.BuildFrom)\n",
    "\t.ToDictionary(c => c.AlphabeticCode, c => c, StringComparer.Ordinal);"
   ]
  },
  {
   "cell_type": "markdown",
   "metadata": {},
   "source": [
    "## Implemented-Only\n",
    "\n",
    "Those currencies that are **NOT** coming from the ISO list but are implemented in the library.\n",
    "\n",
    "They should be majorily obsolete."
   ]
  },
  {
   "cell_type": "code",
   "execution_count": 45,
   "metadata": {
    "dotnet_interactive": {
     "language": "csharp"
    },
    "polyglot_notebook": {
     "kernelName": "csharp"
    },
    "vscode": {
     "languageId": "polyglot-notebook"
    }
   },
   "outputs": [
    {
     "data": {
      "text/html": [
       "<table><thead><tr><th><i>index</i></th><th>value</th></tr></thead><tbody><tr><td>0</td><td><details class=\"dni-treeview\"><summary><span class=\"dni-code-hint\"><code>[HRK, IsoCurrency { Name = Kuna, AlphabeticCode = HRK, NumericCode = 191, MinorUnits = 2, Obsolete = False }]</code></span></summary><div><table><thead><tr></tr></thead><tbody><tr><td>Key</td><td><div class=\"dni-plaintext\"><pre>HRK</pre></div></td></tr><tr><td>Value</td><td><details class=\"dni-treeview\"><summary><span class=\"dni-code-hint\"><code>IsoCurrency { Name = Kuna, AlphabeticCode = HRK, NumericCode = 191, MinorUnits = 2, Obsolete = False }</code></span></summary><div><table><thead><tr></tr></thead><tbody><tr><td>Name</td><td><div class=\"dni-plaintext\"><pre>Kuna</pre></div></td></tr><tr><td>AlphabeticCode</td><td><div class=\"dni-plaintext\"><pre>HRK</pre></div></td></tr><tr><td>NumericCode</td><td><div class=\"dni-plaintext\"><pre>191</pre></div></td></tr><tr><td>MinorUnits</td><td><div class=\"dni-plaintext\"><pre>2</pre></div></td></tr><tr><td>Obsolete</td><td><div class=\"dni-plaintext\"><pre>False</pre></div></td></tr></tbody></table></div></details></td></tr></tbody></table></div></details></td></tr><tr><td>1</td><td><details class=\"dni-treeview\"><summary><span class=\"dni-code-hint\"><code>[EEK, IsoCurrency { Name = Estonian Kroon, AlphabeticCode = EEK, NumericCode = 233, MinorUnits = 2, Obsolete = True }]</code></span></summary><div><table><thead><tr></tr></thead><tbody><tr><td>Key</td><td><div class=\"dni-plaintext\"><pre>EEK</pre></div></td></tr><tr><td>Value</td><td><details class=\"dni-treeview\"><summary><span class=\"dni-code-hint\"><code>IsoCurrency { Name = Estonian Kroon, AlphabeticCode = EEK, NumericCode = 233, MinorUnits = 2, Obsolete = True }</code></span></summary><div><table><thead><tr></tr></thead><tbody><tr><td>Name</td><td><div class=\"dni-plaintext\"><pre>Estonian Kroon</pre></div></td></tr><tr><td>AlphabeticCode</td><td><div class=\"dni-plaintext\"><pre>EEK</pre></div></td></tr><tr><td>NumericCode</td><td><div class=\"dni-plaintext\"><pre>233</pre></div></td></tr><tr><td>MinorUnits</td><td><div class=\"dni-plaintext\"><pre>2</pre></div></td></tr><tr><td>Obsolete</td><td><div class=\"dni-plaintext\"><pre>True</pre></div></td></tr></tbody></table></div></details></td></tr></tbody></table></div></details></td></tr><tr><td>2</td><td><details class=\"dni-treeview\"><summary><span class=\"dni-code-hint\"><code>[LVL, IsoCurrency { Name = Latvian Lats, AlphabeticCode = LVL, NumericCode = 428, MinorUnits = 2, Obsolete = True }]</code></span></summary><div><table><thead><tr></tr></thead><tbody><tr><td>Key</td><td><div class=\"dni-plaintext\"><pre>LVL</pre></div></td></tr><tr><td>Value</td><td><details class=\"dni-treeview\"><summary><span class=\"dni-code-hint\"><code>IsoCurrency { Name = Latvian Lats, AlphabeticCode = LVL, NumericCode = 428, MinorUnits = 2, Obsolete = True }</code></span></summary><div><table><thead><tr></tr></thead><tbody><tr><td>Name</td><td><div class=\"dni-plaintext\"><pre>Latvian Lats</pre></div></td></tr><tr><td>AlphabeticCode</td><td><div class=\"dni-plaintext\"><pre>LVL</pre></div></td></tr><tr><td>NumericCode</td><td><div class=\"dni-plaintext\"><pre>428</pre></div></td></tr><tr><td>MinorUnits</td><td><div class=\"dni-plaintext\"><pre>2</pre></div></td></tr><tr><td>Obsolete</td><td><div class=\"dni-plaintext\"><pre>True</pre></div></td></tr></tbody></table></div></details></td></tr></tbody></table></div></details></td></tr><tr><td>3</td><td><details class=\"dni-treeview\"><summary><span class=\"dni-code-hint\"><code>[LTL, IsoCurrency { Name = Lithuanian Litas, AlphabeticCode = LTL, NumericCode = 440, MinorUnits = 2, Obsolete = True }]</code></span></summary><div><table><thead><tr></tr></thead><tbody><tr><td>Key</td><td><div class=\"dni-plaintext\"><pre>LTL</pre></div></td></tr><tr><td>Value</td><td><details class=\"dni-treeview\"><summary><span class=\"dni-code-hint\"><code>IsoCurrency { Name = Lithuanian Litas, AlphabeticCode = LTL, NumericCode = 440, MinorUnits = 2, Obsolete = True }</code></span></summary><div><table><thead><tr></tr></thead><tbody><tr><td>Name</td><td><div class=\"dni-plaintext\"><pre>Lithuanian Litas</pre></div></td></tr><tr><td>AlphabeticCode</td><td><div class=\"dni-plaintext\"><pre>LTL</pre></div></td></tr><tr><td>NumericCode</td><td><div class=\"dni-plaintext\"><pre>440</pre></div></td></tr><tr><td>MinorUnits</td><td><div class=\"dni-plaintext\"><pre>2</pre></div></td></tr><tr><td>Obsolete</td><td><div class=\"dni-plaintext\"><pre>True</pre></div></td></tr></tbody></table></div></details></td></tr></tbody></table></div></details></td></tr><tr><td>4</td><td><details class=\"dni-treeview\"><summary><span class=\"dni-code-hint\"><code>[MRO, IsoCurrency { Name = Ouguiya, AlphabeticCode = MRO, NumericCode = 478, MinorUnits = 2, Obsolete = True }]</code></span></summary><div><table><thead><tr></tr></thead><tbody><tr><td>Key</td><td><div class=\"dni-plaintext\"><pre>MRO</pre></div></td></tr><tr><td>Value</td><td><details class=\"dni-treeview\"><summary><span class=\"dni-code-hint\"><code>IsoCurrency { Name = Ouguiya, AlphabeticCode = MRO, NumericCode = 478, MinorUnits = 2, Obsolete = True }</code></span></summary><div><table><thead><tr></tr></thead><tbody><tr><td>Name</td><td><div class=\"dni-plaintext\"><pre>Ouguiya</pre></div></td></tr><tr><td>AlphabeticCode</td><td><div class=\"dni-plaintext\"><pre>MRO</pre></div></td></tr><tr><td>NumericCode</td><td><div class=\"dni-plaintext\"><pre>478</pre></div></td></tr><tr><td>MinorUnits</td><td><div class=\"dni-plaintext\"><pre>2</pre></div></td></tr><tr><td>Obsolete</td><td><div class=\"dni-plaintext\"><pre>True</pre></div></td></tr></tbody></table></div></details></td></tr></tbody></table></div></details></td></tr><tr><td>5</td><td><details class=\"dni-treeview\"><summary><span class=\"dni-code-hint\"><code>[STD, IsoCurrency { Name = Dobra, AlphabeticCode = STD, NumericCode = 678, MinorUnits = 2, Obsolete = True }]</code></span></summary><div><table><thead><tr></tr></thead><tbody><tr><td>Key</td><td><div class=\"dni-plaintext\"><pre>STD</pre></div></td></tr><tr><td>Value</td><td><details class=\"dni-treeview\"><summary><span class=\"dni-code-hint\"><code>IsoCurrency { Name = Dobra, AlphabeticCode = STD, NumericCode = 678, MinorUnits = 2, Obsolete = True }</code></span></summary><div><table><thead><tr></tr></thead><tbody><tr><td>Name</td><td><div class=\"dni-plaintext\"><pre>Dobra</pre></div></td></tr><tr><td>AlphabeticCode</td><td><div class=\"dni-plaintext\"><pre>STD</pre></div></td></tr><tr><td>NumericCode</td><td><div class=\"dni-plaintext\"><pre>678</pre></div></td></tr><tr><td>MinorUnits</td><td><div class=\"dni-plaintext\"><pre>2</pre></div></td></tr><tr><td>Obsolete</td><td><div class=\"dni-plaintext\"><pre>True</pre></div></td></tr></tbody></table></div></details></td></tr></tbody></table></div></details></td></tr><tr><td>6</td><td><details class=\"dni-treeview\"><summary><span class=\"dni-code-hint\"><code>[SLL, IsoCurrency { Name = Leone, AlphabeticCode = SLL, NumericCode = 694, MinorUnits = 2, Obsolete = False }]</code></span></summary><div><table><thead><tr></tr></thead><tbody><tr><td>Key</td><td><div class=\"dni-plaintext\"><pre>SLL</pre></div></td></tr><tr><td>Value</td><td><details class=\"dni-treeview\"><summary><span class=\"dni-code-hint\"><code>IsoCurrency { Name = Leone, AlphabeticCode = SLL, NumericCode = 694, MinorUnits = 2, Obsolete = False }</code></span></summary><div><table><thead><tr></tr></thead><tbody><tr><td>Name</td><td><div class=\"dni-plaintext\"><pre>Leone</pre></div></td></tr><tr><td>AlphabeticCode</td><td><div class=\"dni-plaintext\"><pre>SLL</pre></div></td></tr><tr><td>NumericCode</td><td><div class=\"dni-plaintext\"><pre>694</pre></div></td></tr><tr><td>MinorUnits</td><td><div class=\"dni-plaintext\"><pre>2</pre></div></td></tr><tr><td>Obsolete</td><td><div class=\"dni-plaintext\"><pre>False</pre></div></td></tr></tbody></table></div></details></td></tr></tbody></table></div></details></td></tr><tr><td>7</td><td><details class=\"dni-treeview\"><summary><span class=\"dni-code-hint\"><code>[ZMK, IsoCurrency { Name = Zambian Kwacha, AlphabeticCode = ZMK, NumericCode = 894, MinorUnits = 2, Obsolete = True }]</code></span></summary><div><table><thead><tr></tr></thead><tbody><tr><td>Key</td><td><div class=\"dni-plaintext\"><pre>ZMK</pre></div></td></tr><tr><td>Value</td><td><details class=\"dni-treeview\"><summary><span class=\"dni-code-hint\"><code>IsoCurrency { Name = Zambian Kwacha, AlphabeticCode = ZMK, NumericCode = 894, MinorUnits = 2, Obsolete = True }</code></span></summary><div><table><thead><tr></tr></thead><tbody><tr><td>Name</td><td><div class=\"dni-plaintext\"><pre>Zambian Kwacha</pre></div></td></tr><tr><td>AlphabeticCode</td><td><div class=\"dni-plaintext\"><pre>ZMK</pre></div></td></tr><tr><td>NumericCode</td><td><div class=\"dni-plaintext\"><pre>894</pre></div></td></tr><tr><td>MinorUnits</td><td><div class=\"dni-plaintext\"><pre>2</pre></div></td></tr><tr><td>Obsolete</td><td><div class=\"dni-plaintext\"><pre>True</pre></div></td></tr></tbody></table></div></details></td></tr></tbody></table></div></details></td></tr><tr><td>8</td><td><details class=\"dni-treeview\"><summary><span class=\"dni-code-hint\"><code>[VEF, IsoCurrency { Name = Bol&#237;var, AlphabeticCode = VEF, NumericCode = 937, MinorUnits = 2, Obsolete = True }]</code></span></summary><div><table><thead><tr></tr></thead><tbody><tr><td>Key</td><td><div class=\"dni-plaintext\"><pre>VEF</pre></div></td></tr><tr><td>Value</td><td><details class=\"dni-treeview\"><summary><span class=\"dni-code-hint\"><code>IsoCurrency { Name = Bol&#237;var, AlphabeticCode = VEF, NumericCode = 937, MinorUnits = 2, Obsolete = True }</code></span></summary><div><table><thead><tr></tr></thead><tbody><tr><td>Name</td><td><div class=\"dni-plaintext\"><pre>Bol&#237;var</pre></div></td></tr><tr><td>AlphabeticCode</td><td><div class=\"dni-plaintext\"><pre>VEF</pre></div></td></tr><tr><td>NumericCode</td><td><div class=\"dni-plaintext\"><pre>937</pre></div></td></tr><tr><td>MinorUnits</td><td><div class=\"dni-plaintext\"><pre>2</pre></div></td></tr><tr><td>Obsolete</td><td><div class=\"dni-plaintext\"><pre>True</pre></div></td></tr></tbody></table></div></details></td></tr></tbody></table></div></details></td></tr><tr><td>9</td><td><details class=\"dni-treeview\"><summary><span class=\"dni-code-hint\"><code>[BYR, IsoCurrency { Name = Belarussian Ruble, AlphabeticCode = BYR, NumericCode = 974, MinorUnits = 0, Obsolete = True }]</code></span></summary><div><table><thead><tr></tr></thead><tbody><tr><td>Key</td><td><div class=\"dni-plaintext\"><pre>BYR</pre></div></td></tr><tr><td>Value</td><td><details class=\"dni-treeview\"><summary><span class=\"dni-code-hint\"><code>IsoCurrency { Name = Belarussian Ruble, AlphabeticCode = BYR, NumericCode = 974, MinorUnits = 0, Obsolete = True }</code></span></summary><div><table><thead><tr></tr></thead><tbody><tr><td>Name</td><td><div class=\"dni-plaintext\"><pre>Belarussian Ruble</pre></div></td></tr><tr><td>AlphabeticCode</td><td><div class=\"dni-plaintext\"><pre>BYR</pre></div></td></tr><tr><td>NumericCode</td><td><div class=\"dni-plaintext\"><pre>974</pre></div></td></tr><tr><td>MinorUnits</td><td><div class=\"dni-plaintext\"><pre>0</pre></div></td></tr><tr><td>Obsolete</td><td><div class=\"dni-plaintext\"><pre>True</pre></div></td></tr></tbody></table></div></details></td></tr></tbody></table></div></details></td></tr><tr><td>10</td><td><details class=\"dni-treeview\"><summary><span class=\"dni-code-hint\"><code>[USS, IsoCurrency { Name = US Dollar (Same day), AlphabeticCode = USS, NumericCode = 998, MinorUnits = 2, Obsolete = True }]</code></span></summary><div><table><thead><tr></tr></thead><tbody><tr><td>Key</td><td><div class=\"dni-plaintext\"><pre>USS</pre></div></td></tr><tr><td>Value</td><td><details class=\"dni-treeview\"><summary><span class=\"dni-code-hint\"><code>IsoCurrency { Name = US Dollar (Same day), AlphabeticCode = USS, NumericCode = 998, MinorUnits = 2, Obsolete = True }</code></span></summary><div><table><thead><tr></tr></thead><tbody><tr><td>Name</td><td><div class=\"dni-plaintext\"><pre>US Dollar (Same day)</pre></div></td></tr><tr><td>AlphabeticCode</td><td><div class=\"dni-plaintext\"><pre>USS</pre></div></td></tr><tr><td>NumericCode</td><td><div class=\"dni-plaintext\"><pre>998</pre></div></td></tr><tr><td>MinorUnits</td><td><div class=\"dni-plaintext\"><pre>2</pre></div></td></tr><tr><td>Obsolete</td><td><div class=\"dni-plaintext\"><pre>True</pre></div></td></tr></tbody></table></div></details></td></tr></tbody></table></div></details></td></tr></tbody></table><style>\r\n",
       ".dni-code-hint {\r\n",
       "    font-style: italic;\r\n",
       "    overflow: hidden;\r\n",
       "    white-space: nowrap;\r\n",
       "}\r\n",
       ".dni-treeview {\r\n",
       "    white-space: nowrap;\r\n",
       "}\r\n",
       ".dni-treeview td {\r\n",
       "    vertical-align: top;\r\n",
       "    text-align: start;\r\n",
       "}\r\n",
       "details.dni-treeview {\r\n",
       "    padding-left: 1em;\r\n",
       "}\r\n",
       "table td {\r\n",
       "    text-align: start;\r\n",
       "}\r\n",
       "table tr { \r\n",
       "    vertical-align: top; \r\n",
       "    margin: 0em 0px;\r\n",
       "}\r\n",
       "table tr td pre \r\n",
       "{ \r\n",
       "    vertical-align: top !important; \r\n",
       "    margin: 0em 0px !important;\r\n",
       "} \r\n",
       "table th {\r\n",
       "    text-align: start;\r\n",
       "}\r\n",
       "</style>"
      ]
     },
     "metadata": {},
     "output_type": "display_data"
    }
   ],
   "source": [
    "implemented.Where(i => !scrapped.ContainsKey(i.Key))\n"
   ]
  },
  {
   "cell_type": "markdown",
   "metadata": {},
   "source": [
    "## ISO-Only\n",
    "\n",
    "These currencies are **ONLY** coming from the ISO list and are not implemented in the library."
   ]
  },
  {
   "cell_type": "code",
   "execution_count": 46,
   "metadata": {
    "dotnet_interactive": {
     "language": "csharp"
    },
    "polyglot_notebook": {
     "kernelName": "csharp"
    },
    "vscode": {
     "languageId": "polyglot-notebook"
    }
   },
   "outputs": [
    {
     "data": {
      "text/html": [
       "<table><thead><tr><th><i>index</i></th><th>value</th></tr></thead><tbody><tr><td>0</td><td><details class=\"dni-treeview\"><summary><span class=\"dni-code-hint\"><code>[SLE, IsoCurrency { Name = Leone, AlphabeticCode = SLE, NumericCode = 925, MinorUnits = 2, Obsolete = False }]</code></span></summary><div><table><thead><tr></tr></thead><tbody><tr><td>Key</td><td><div class=\"dni-plaintext\"><pre>SLE</pre></div></td></tr><tr><td>Value</td><td><details class=\"dni-treeview\"><summary><span class=\"dni-code-hint\"><code>IsoCurrency { Name = Leone, AlphabeticCode = SLE, NumericCode = 925, MinorUnits = 2, Obsolete = False }</code></span></summary><div><table><thead><tr></tr></thead><tbody><tr><td>Name</td><td><div class=\"dni-plaintext\"><pre>Leone</pre></div></td></tr><tr><td>AlphabeticCode</td><td><div class=\"dni-plaintext\"><pre>SLE</pre></div></td></tr><tr><td>NumericCode</td><td><div class=\"dni-plaintext\"><pre>925</pre></div></td></tr><tr><td>MinorUnits</td><td><div class=\"dni-plaintext\"><pre>2</pre></div></td></tr><tr><td>Obsolete</td><td><div class=\"dni-plaintext\"><pre>False</pre></div></td></tr></tbody></table></div></details></td></tr></tbody></table></div></details></td></tr><tr><td>1</td><td><details class=\"dni-treeview\"><summary><span class=\"dni-code-hint\"><code>[VED, IsoCurrency { Name = Bol&#237;var Soberano, AlphabeticCode = VED, NumericCode = 926, MinorUnits = 2, Obsolete = False }]</code></span></summary><div><table><thead><tr></tr></thead><tbody><tr><td>Key</td><td><div class=\"dni-plaintext\"><pre>VED</pre></div></td></tr><tr><td>Value</td><td><details class=\"dni-treeview\"><summary><span class=\"dni-code-hint\"><code>IsoCurrency { Name = Bol&#237;var Soberano, AlphabeticCode = VED, NumericCode = 926, MinorUnits = 2, Obsolete = False }</code></span></summary><div><table><thead><tr></tr></thead><tbody><tr><td>Name</td><td><div class=\"dni-plaintext\"><pre>Bol&#237;var Soberano</pre></div></td></tr><tr><td>AlphabeticCode</td><td><div class=\"dni-plaintext\"><pre>VED</pre></div></td></tr><tr><td>NumericCode</td><td><div class=\"dni-plaintext\"><pre>926</pre></div></td></tr><tr><td>MinorUnits</td><td><div class=\"dni-plaintext\"><pre>2</pre></div></td></tr><tr><td>Obsolete</td><td><div class=\"dni-plaintext\"><pre>False</pre></div></td></tr></tbody></table></div></details></td></tr></tbody></table></div></details></td></tr></tbody></table><style>\r\n",
       ".dni-code-hint {\r\n",
       "    font-style: italic;\r\n",
       "    overflow: hidden;\r\n",
       "    white-space: nowrap;\r\n",
       "}\r\n",
       ".dni-treeview {\r\n",
       "    white-space: nowrap;\r\n",
       "}\r\n",
       ".dni-treeview td {\r\n",
       "    vertical-align: top;\r\n",
       "    text-align: start;\r\n",
       "}\r\n",
       "details.dni-treeview {\r\n",
       "    padding-left: 1em;\r\n",
       "}\r\n",
       "table td {\r\n",
       "    text-align: start;\r\n",
       "}\r\n",
       "table tr { \r\n",
       "    vertical-align: top; \r\n",
       "    margin: 0em 0px;\r\n",
       "}\r\n",
       "table tr td pre \r\n",
       "{ \r\n",
       "    vertical-align: top !important; \r\n",
       "    margin: 0em 0px !important;\r\n",
       "} \r\n",
       "table th {\r\n",
       "    text-align: start;\r\n",
       "}\r\n",
       "</style>"
      ]
     },
     "metadata": {},
     "output_type": "display_data"
    }
   ],
   "source": [
    "scrapped.Where(s => !implemented.ContainsKey(s.Key))"
   ]
  },
  {
   "cell_type": "markdown",
   "metadata": {},
   "source": [
    "## ISO Discrepancies\n",
    "\n",
    "There currencies have different information in the ISO list and the library."
   ]
  },
  {
   "cell_type": "code",
   "execution_count": 47,
   "metadata": {
    "dotnet_interactive": {
     "language": "csharp"
    },
    "polyglot_notebook": {
     "kernelName": "csharp"
    },
    "vscode": {
     "languageId": "polyglot-notebook"
    }
   },
   "outputs": [
    {
     "data": {
      "text/html": [
       "<table><thead><tr><th><i>key</i></th><th>value</th></tr></thead><tbody><tr><td><div class=\"dni-plaintext\"><pre>KMF</pre></div></td><td><table><thead><tr><th><i>index</i></th><th>value</th></tr></thead><tbody><tr><td>0</td><td><details class=\"dni-treeview\"><summary><span class=\"dni-code-hint\"><code>Diff { Prop = Name, Scrapped = Comorian Franc , Implemented = Comorian Franc }</code></span></summary><div><table><thead><tr></tr></thead><tbody><tr><td>Prop</td><td><div class=\"dni-plaintext\"><pre>Name</pre></div></td></tr><tr><td>Scrapped</td><td><div class=\"dni-plaintext\"><pre>Comorian Franc </pre></div></td></tr><tr><td>Implemented</td><td><div class=\"dni-plaintext\"><pre>Comorian Franc</pre></div></td></tr></tbody></table></div></details></td></tr></tbody></table></td></tr><tr><td><div class=\"dni-plaintext\"><pre>XDR</pre></div></td><td><table><thead><tr><th><i>index</i></th><th>value</th></tr></thead><tbody><tr><td>0</td><td><details class=\"dni-treeview\"><summary><span class=\"dni-code-hint\"><code>Diff { Prop = MinorUnits, Scrapped = , Implemented = 2 }</code></span></summary><div><table><thead><tr></tr></thead><tbody><tr><td>Prop</td><td><div class=\"dni-plaintext\"><pre>MinorUnits</pre></div></td></tr><tr><td>Scrapped</td><td><div class=\"dni-plaintext\"><pre>&lt;null&gt;</pre></div></td></tr><tr><td>Implemented</td><td><div class=\"dni-plaintext\"><pre>2</pre></div></td></tr></tbody></table></div></details></td></tr></tbody></table></td></tr><tr><td><div class=\"dni-plaintext\"><pre>XUA</pre></div></td><td><table><thead><tr><th><i>index</i></th><th>value</th></tr></thead><tbody><tr><td>0</td><td><details class=\"dni-treeview\"><summary><span class=\"dni-code-hint\"><code>Diff { Prop = MinorUnits, Scrapped = , Implemented = 2 }</code></span></summary><div><table><thead><tr></tr></thead><tbody><tr><td>Prop</td><td><div class=\"dni-plaintext\"><pre>MinorUnits</pre></div></td></tr><tr><td>Scrapped</td><td><div class=\"dni-plaintext\"><pre>&lt;null&gt;</pre></div></td></tr><tr><td>Implemented</td><td><div class=\"dni-plaintext\"><pre>2</pre></div></td></tr></tbody></table></div></details></td></tr></tbody></table></td></tr><tr><td><div class=\"dni-plaintext\"><pre>XSU</pre></div></td><td><table><thead><tr><th><i>index</i></th><th>value</th></tr></thead><tbody><tr><td>0</td><td><details class=\"dni-treeview\"><summary><span class=\"dni-code-hint\"><code>Diff { Prop = MinorUnits, Scrapped = , Implemented = 2 }</code></span></summary><div><table><thead><tr></tr></thead><tbody><tr><td>Prop</td><td><div class=\"dni-plaintext\"><pre>MinorUnits</pre></div></td></tr><tr><td>Scrapped</td><td><div class=\"dni-plaintext\"><pre>&lt;null&gt;</pre></div></td></tr><tr><td>Implemented</td><td><div class=\"dni-plaintext\"><pre>2</pre></div></td></tr></tbody></table></div></details></td></tr></tbody></table></td></tr><tr><td><div class=\"dni-plaintext\"><pre>UYI</pre></div></td><td><table><thead><tr><th><i>index</i></th><th>value</th></tr></thead><tbody><tr><td>0</td><td><details class=\"dni-treeview\"><summary><span class=\"dni-code-hint\"><code>Diff { Prop = Name, Scrapped = Uruguay Peso en Unidades Indexadas (UI), Implemented = Uruguay Peso en Unidades Indexadas (URUIURUI) }</code></span></summary><div><table><thead><tr></tr></thead><tbody><tr><td>Prop</td><td><div class=\"dni-plaintext\"><pre>Name</pre></div></td></tr><tr><td>Scrapped</td><td><div class=\"dni-plaintext\"><pre>Uruguay Peso en Unidades Indexadas (UI)</pre></div></td></tr><tr><td>Implemented</td><td><div class=\"dni-plaintext\"><pre>Uruguay Peso en Unidades Indexadas (URUIURUI)</pre></div></td></tr></tbody></table></div></details></td></tr></tbody></table></td></tr><tr><td><div class=\"dni-plaintext\"><pre>UYW</pre></div></td><td><table><thead><tr><th><i>index</i></th><th>value</th></tr></thead><tbody><tr><td>0</td><td><details class=\"dni-treeview\"><summary><span class=\"dni-code-hint\"><code>Diff { Prop = Name, Scrapped = Unidad Previsional, Implemented = Unidad previsional }</code></span></summary><div><table><thead><tr></tr></thead><tbody><tr><td>Prop</td><td><div class=\"dni-plaintext\"><pre>Name</pre></div></td></tr><tr><td>Scrapped</td><td><div class=\"dni-plaintext\"><pre>Unidad Previsional</pre></div></td></tr><tr><td>Implemented</td><td><div class=\"dni-plaintext\"><pre>Unidad previsional</pre></div></td></tr></tbody></table></div></details></td></tr><tr><td>1</td><td><details class=\"dni-treeview\"><summary><span class=\"dni-code-hint\"><code>Diff { Prop = MinorUnits, Scrapped = 4, Implemented = 0 }</code></span></summary><div><table><thead><tr></tr></thead><tbody><tr><td>Prop</td><td><div class=\"dni-plaintext\"><pre>MinorUnits</pre></div></td></tr><tr><td>Scrapped</td><td><div class=\"dni-plaintext\"><pre>4</pre></div></td></tr><tr><td>Implemented</td><td><div class=\"dni-plaintext\"><pre>0</pre></div></td></tr></tbody></table></div></details></td></tr></tbody></table></td></tr><tr><td><div class=\"dni-plaintext\"><pre>XBA</pre></div></td><td><table><thead><tr><th><i>index</i></th><th>value</th></tr></thead><tbody><tr><td>0</td><td><details class=\"dni-treeview\"><summary><span class=\"dni-code-hint\"><code>Diff { Prop = Name, Scrapped = Bond Markets Unit European Composite Unit (EURCO), Implemented = European Composite Unit (EURCO) }</code></span></summary><div><table><thead><tr></tr></thead><tbody><tr><td>Prop</td><td><div class=\"dni-plaintext\"><pre>Name</pre></div></td></tr><tr><td>Scrapped</td><td><div class=\"dni-plaintext\"><pre>Bond Markets Unit European Composite Unit (EURCO)</pre></div></td></tr><tr><td>Implemented</td><td><div class=\"dni-plaintext\"><pre>European Composite Unit (EURCO)</pre></div></td></tr></tbody></table></div></details></td></tr><tr><td>1</td><td><details class=\"dni-treeview\"><summary><span class=\"dni-code-hint\"><code>Diff { Prop = MinorUnits, Scrapped = , Implemented = 2 }</code></span></summary><div><table><thead><tr></tr></thead><tbody><tr><td>Prop</td><td><div class=\"dni-plaintext\"><pre>MinorUnits</pre></div></td></tr><tr><td>Scrapped</td><td><div class=\"dni-plaintext\"><pre>&lt;null&gt;</pre></div></td></tr><tr><td>Implemented</td><td><div class=\"dni-plaintext\"><pre>2</pre></div></td></tr></tbody></table></div></details></td></tr></tbody></table></td></tr><tr><td><div class=\"dni-plaintext\"><pre>XBB</pre></div></td><td><table><thead><tr><th><i>index</i></th><th>value</th></tr></thead><tbody><tr><td>0</td><td><details class=\"dni-treeview\"><summary><span class=\"dni-code-hint\"><code>Diff { Prop = Name, Scrapped = Bond Markets Unit European Monetary Unit (E.M.U.-6), Implemented = European Monetary Unit (E.M.U.-6) }</code></span></summary><div><table><thead><tr></tr></thead><tbody><tr><td>Prop</td><td><div class=\"dni-plaintext\"><pre>Name</pre></div></td></tr><tr><td>Scrapped</td><td><div class=\"dni-plaintext\"><pre>Bond Markets Unit European Monetary Unit (E.M.U.-6)</pre></div></td></tr><tr><td>Implemented</td><td><div class=\"dni-plaintext\"><pre>European Monetary Unit (E.M.U.-6)</pre></div></td></tr></tbody></table></div></details></td></tr><tr><td>1</td><td><details class=\"dni-treeview\"><summary><span class=\"dni-code-hint\"><code>Diff { Prop = MinorUnits, Scrapped = , Implemented = 2 }</code></span></summary><div><table><thead><tr></tr></thead><tbody><tr><td>Prop</td><td><div class=\"dni-plaintext\"><pre>MinorUnits</pre></div></td></tr><tr><td>Scrapped</td><td><div class=\"dni-plaintext\"><pre>&lt;null&gt;</pre></div></td></tr><tr><td>Implemented</td><td><div class=\"dni-plaintext\"><pre>2</pre></div></td></tr></tbody></table></div></details></td></tr></tbody></table></td></tr><tr><td><div class=\"dni-plaintext\"><pre>XBC</pre></div></td><td><table><thead><tr><th><i>index</i></th><th>value</th></tr></thead><tbody><tr><td>0</td><td><details class=\"dni-treeview\"><summary><span class=\"dni-code-hint\"><code>Diff { Prop = Name, Scrapped = Bond Markets Unit European Unit of Account 9 (E.U.A.-9), Implemented = European Unit of Account 9 (E.U.A.-9) }</code></span></summary><div><table><thead><tr></tr></thead><tbody><tr><td>Prop</td><td><div class=\"dni-plaintext\"><pre>Name</pre></div></td></tr><tr><td>Scrapped</td><td><div class=\"dni-plaintext\"><pre>Bond Markets Unit European Unit of Account 9 (E.U.A.-9)</pre></div></td></tr><tr><td>Implemented</td><td><div class=\"dni-plaintext\"><pre>European Unit of Account 9 (E.U.A.-9)</pre></div></td></tr></tbody></table></div></details></td></tr><tr><td>1</td><td><details class=\"dni-treeview\"><summary><span class=\"dni-code-hint\"><code>Diff { Prop = MinorUnits, Scrapped = , Implemented = 2 }</code></span></summary><div><table><thead><tr></tr></thead><tbody><tr><td>Prop</td><td><div class=\"dni-plaintext\"><pre>MinorUnits</pre></div></td></tr><tr><td>Scrapped</td><td><div class=\"dni-plaintext\"><pre>&lt;null&gt;</pre></div></td></tr><tr><td>Implemented</td><td><div class=\"dni-plaintext\"><pre>2</pre></div></td></tr></tbody></table></div></details></td></tr></tbody></table></td></tr><tr><td><div class=\"dni-plaintext\"><pre>XBD</pre></div></td><td><table><thead><tr><th><i>index</i></th><th>value</th></tr></thead><tbody><tr><td>0</td><td><details class=\"dni-treeview\"><summary><span class=\"dni-code-hint\"><code>Diff { Prop = Name, Scrapped = Bond Markets Unit European Unit of Account 17 (E.U.A.-17), Implemented = European Unit of Account 17 (E.U.A.-17) }</code></span></summary><div><table><thead><tr></tr></thead><tbody><tr><td>Prop</td><td><div class=\"dni-plaintext\"><pre>Name</pre></div></td></tr><tr><td>Scrapped</td><td><div class=\"dni-plaintext\"><pre>Bond Markets Unit European Unit of Account 17 (E.U.A.-17)</pre></div></td></tr><tr><td>Implemented</td><td><div class=\"dni-plaintext\"><pre>European Unit of Account 17 (E.U.A.-17)</pre></div></td></tr></tbody></table></div></details></td></tr><tr><td>1</td><td><details class=\"dni-treeview\"><summary><span class=\"dni-code-hint\"><code>Diff { Prop = MinorUnits, Scrapped = , Implemented = 2 }</code></span></summary><div><table><thead><tr></tr></thead><tbody><tr><td>Prop</td><td><div class=\"dni-plaintext\"><pre>MinorUnits</pre></div></td></tr><tr><td>Scrapped</td><td><div class=\"dni-plaintext\"><pre>&lt;null&gt;</pre></div></td></tr><tr><td>Implemented</td><td><div class=\"dni-plaintext\"><pre>2</pre></div></td></tr></tbody></table></div></details></td></tr></tbody></table></td></tr><tr><td><div class=\"dni-plaintext\"><pre>XTS</pre></div></td><td><table><thead><tr><th><i>index</i></th><th>value</th></tr></thead><tbody><tr><td>0</td><td><details class=\"dni-treeview\"><summary><span class=\"dni-code-hint\"><code>Diff { Prop = Name, Scrapped = Codes specifically reserved for testing purposes, Implemented = Test currency }</code></span></summary><div><table><thead><tr></tr></thead><tbody><tr><td>Prop</td><td><div class=\"dni-plaintext\"><pre>Name</pre></div></td></tr><tr><td>Scrapped</td><td><div class=\"dni-plaintext\"><pre>Codes specifically reserved for testing purposes</pre></div></td></tr><tr><td>Implemented</td><td><div class=\"dni-plaintext\"><pre>Test currency</pre></div></td></tr></tbody></table></div></details></td></tr><tr><td>1</td><td><details class=\"dni-treeview\"><summary><span class=\"dni-code-hint\"><code>Diff { Prop = MinorUnits, Scrapped = , Implemented = 2 }</code></span></summary><div><table><thead><tr></tr></thead><tbody><tr><td>Prop</td><td><div class=\"dni-plaintext\"><pre>MinorUnits</pre></div></td></tr><tr><td>Scrapped</td><td><div class=\"dni-plaintext\"><pre>&lt;null&gt;</pre></div></td></tr><tr><td>Implemented</td><td><div class=\"dni-plaintext\"><pre>2</pre></div></td></tr></tbody></table></div></details></td></tr></tbody></table></td></tr><tr><td><div class=\"dni-plaintext\"><pre>XXX</pre></div></td><td><table><thead><tr><th><i>index</i></th><th>value</th></tr></thead><tbody><tr><td>0</td><td><details class=\"dni-treeview\"><summary><span class=\"dni-code-hint\"><code>Diff { Prop = Name, Scrapped = The codes assigned for transactions where no currency is involved, Implemented = No currency }</code></span></summary><div><table><thead><tr></tr></thead><tbody><tr><td>Prop</td><td><div class=\"dni-plaintext\"><pre>Name</pre></div></td></tr><tr><td>Scrapped</td><td><div class=\"dni-plaintext\"><pre>The codes assigned for transactions where no currency is involved</pre></div></td></tr><tr><td>Implemented</td><td><div class=\"dni-plaintext\"><pre>No currency</pre></div></td></tr></tbody></table></div></details></td></tr><tr><td>1</td><td><details class=\"dni-treeview\"><summary><span class=\"dni-code-hint\"><code>Diff { Prop = MinorUnits, Scrapped = , Implemented = 2 }</code></span></summary><div><table><thead><tr></tr></thead><tbody><tr><td>Prop</td><td><div class=\"dni-plaintext\"><pre>MinorUnits</pre></div></td></tr><tr><td>Scrapped</td><td><div class=\"dni-plaintext\"><pre>&lt;null&gt;</pre></div></td></tr><tr><td>Implemented</td><td><div class=\"dni-plaintext\"><pre>2</pre></div></td></tr></tbody></table></div></details></td></tr></tbody></table></td></tr><tr><td><div class=\"dni-plaintext\"><pre>XAU</pre></div></td><td><table><thead><tr><th><i>index</i></th><th>value</th></tr></thead><tbody><tr><td>0</td><td><details class=\"dni-treeview\"><summary><span class=\"dni-code-hint\"><code>Diff { Prop = MinorUnits, Scrapped = , Implemented = 2 }</code></span></summary><div><table><thead><tr></tr></thead><tbody><tr><td>Prop</td><td><div class=\"dni-plaintext\"><pre>MinorUnits</pre></div></td></tr><tr><td>Scrapped</td><td><div class=\"dni-plaintext\"><pre>&lt;null&gt;</pre></div></td></tr><tr><td>Implemented</td><td><div class=\"dni-plaintext\"><pre>2</pre></div></td></tr></tbody></table></div></details></td></tr></tbody></table></td></tr><tr><td><div class=\"dni-plaintext\"><pre>XPD</pre></div></td><td><table><thead><tr><th><i>index</i></th><th>value</th></tr></thead><tbody><tr><td>0</td><td><details class=\"dni-treeview\"><summary><span class=\"dni-code-hint\"><code>Diff { Prop = MinorUnits, Scrapped = , Implemented = 2 }</code></span></summary><div><table><thead><tr></tr></thead><tbody><tr><td>Prop</td><td><div class=\"dni-plaintext\"><pre>MinorUnits</pre></div></td></tr><tr><td>Scrapped</td><td><div class=\"dni-plaintext\"><pre>&lt;null&gt;</pre></div></td></tr><tr><td>Implemented</td><td><div class=\"dni-plaintext\"><pre>2</pre></div></td></tr></tbody></table></div></details></td></tr></tbody></table></td></tr><tr><td><div class=\"dni-plaintext\"><pre>XPT</pre></div></td><td><table><thead><tr><th><i>index</i></th><th>value</th></tr></thead><tbody><tr><td>0</td><td><details class=\"dni-treeview\"><summary><span class=\"dni-code-hint\"><code>Diff { Prop = MinorUnits, Scrapped = , Implemented = 2 }</code></span></summary><div><table><thead><tr></tr></thead><tbody><tr><td>Prop</td><td><div class=\"dni-plaintext\"><pre>MinorUnits</pre></div></td></tr><tr><td>Scrapped</td><td><div class=\"dni-plaintext\"><pre>&lt;null&gt;</pre></div></td></tr><tr><td>Implemented</td><td><div class=\"dni-plaintext\"><pre>2</pre></div></td></tr></tbody></table></div></details></td></tr></tbody></table></td></tr><tr><td><div class=\"dni-plaintext\"><pre>XAG</pre></div></td><td><table><thead><tr><th><i>index</i></th><th>value</th></tr></thead><tbody><tr><td>0</td><td><details class=\"dni-treeview\"><summary><span class=\"dni-code-hint\"><code>Diff { Prop = MinorUnits, Scrapped = , Implemented = 2 }</code></span></summary><div><table><thead><tr></tr></thead><tbody><tr><td>Prop</td><td><div class=\"dni-plaintext\"><pre>MinorUnits</pre></div></td></tr><tr><td>Scrapped</td><td><div class=\"dni-plaintext\"><pre>&lt;null&gt;</pre></div></td></tr><tr><td>Implemented</td><td><div class=\"dni-plaintext\"><pre>2</pre></div></td></tr></tbody></table></div></details></td></tr></tbody></table></td></tr></tbody></table><style>\r\n",
       ".dni-code-hint {\r\n",
       "    font-style: italic;\r\n",
       "    overflow: hidden;\r\n",
       "    white-space: nowrap;\r\n",
       "}\r\n",
       ".dni-treeview {\r\n",
       "    white-space: nowrap;\r\n",
       "}\r\n",
       ".dni-treeview td {\r\n",
       "    vertical-align: top;\r\n",
       "    text-align: start;\r\n",
       "}\r\n",
       "details.dni-treeview {\r\n",
       "    padding-left: 1em;\r\n",
       "}\r\n",
       "table td {\r\n",
       "    text-align: start;\r\n",
       "}\r\n",
       "table tr { \r\n",
       "    vertical-align: top; \r\n",
       "    margin: 0em 0px;\r\n",
       "}\r\n",
       "table tr td pre \r\n",
       "{ \r\n",
       "    vertical-align: top !important; \r\n",
       "    margin: 0em 0px !important;\r\n",
       "} \r\n",
       "table th {\r\n",
       "    text-align: start;\r\n",
       "}\r\n",
       "</style>"
      ]
     },
     "metadata": {},
     "output_type": "display_data"
    }
   ],
   "source": [
    "// TODO: use html tables to display information instead of JSON\n",
    "record Diff(string Prop, object Scrapped, object Implemented);\n",
    "Dictionary<string, Diff[]> discrepancies = new(StringComparer.Ordinal);\n",
    "StringComparer nameComparer = StringComparer.Create(CultureInfo.GetCultureInfo(\"en-GB\"), false);\n",
    "foreach (IsoCurrency iso in scrapped.Values)\n",
    "{\n",
    "\tif (implemented.TryGetValue(iso.AlphabeticCode, out IsoCurrency alsoImplemented))\n",
    "\t{\n",
    "\t\tList<Diff> diffs = new(3);\n",
    "\t\tif (!iso.NumericCode.Equals(alsoImplemented.NumericCode))\n",
    "\t\t{\n",
    "\t\t\tdiffs.Add(new Diff(\"NumericCode\", iso.NumericCode, alsoImplemented.NumericCode));\n",
    "\t\t}\n",
    "\t\tif (!nameComparer.Equals(iso.Name, alsoImplemented.Name))\n",
    "\t\t{\n",
    "\t\t\tdiffs.Add(new Diff(\"Name\", iso.Name, alsoImplemented.Name));\n",
    "\t\t}\n",
    "\t\tif (!iso.MinorUnits.Equals(alsoImplemented.MinorUnits))\n",
    "\t\t{\n",
    "\t\t\tdiffs.Add(new Diff(\"MinorUnits\", iso.MinorUnits, alsoImplemented.MinorUnits));\n",
    "\t\t}\n",
    "\t\tif (diffs.Count > 0)\n",
    "\t\t{\n",
    "\t\t\tdiscrepancies.Add(iso.AlphabeticCode, diffs.ToArray());\n",
    "\t\t}\n",
    "\t}\n",
    "}\n",
    "discrepancies.Display();"
   ]
  }
 ],
 "metadata": {
  "kernelspec": {
   "display_name": ".NET (C#)",
   "language": "C#",
   "name": ".net-csharp"
  },
  "language_info": {
   "name": "csharp"
  },
  "polyglot_notebook": {
   "kernelInfo": {
    "defaultKernelName": "csharp",
    "items": [
     {
      "aliases": [],
      "name": "csharp"
     }
    ]
   }
  }
 },
 "nbformat": 4,
 "nbformat_minor": 2
}
